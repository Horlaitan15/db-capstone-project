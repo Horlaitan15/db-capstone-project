{
 "cells": [
  {
   "cell_type": "code",
   "execution_count": 1,
   "id": "00d2e7ed",
   "metadata": {},
   "outputs": [],
   "source": [
    "import mysql.connector as connector"
   ]
  },
  {
   "cell_type": "code",
   "execution_count": 7,
   "id": "27734a01",
   "metadata": {},
   "outputs": [],
   "source": [
    "conn = connector.connect(user='root', password='DataEngineering100%', database='Lucky_Shrub')\n",
    "cursor = conn.cursor()"
   ]
  },
  {
   "cell_type": "code",
   "execution_count": 8,
   "id": "e0a6c431",
   "metadata": {},
   "outputs": [],
   "source": [
    "table_queries = \"SHOW TABLES\"\n",
    "cursor.execute(table_queries)"
   ]
  },
  {
   "cell_type": "code",
   "execution_count": 9,
   "id": "d1ed1557",
   "metadata": {},
   "outputs": [
    {
     "name": "stdout",
     "output_type": "stream",
     "text": [
      "[('Activity',), ('Addresses',), ('Audit',), ('Clients',), ('DataSummary',), ('Employees',), ('Notifications',), ('Orders',), ('Products',)]\n"
     ]
    }
   ],
   "source": [
    "results = cursor.fetchall()\n",
    "print(results)"
   ]
  },
  {
   "cell_type": "code",
   "execution_count": null,
   "id": "2a15abdc",
   "metadata": {},
   "outputs": [],
   "source": [
    "order_query = \"SELECT C.CustomerName, C.CustomerNumber, O.TotalCost FROM Customers AS C INNER JOIN Orders AS O ON C.CustomerID = O.CustomerID WHERE TotalCost > 60\"\n",
    "cursor.execute(order_query)"
   ]
  },
  {
   "cell_type": "code",
   "execution_count": null,
   "id": "dbc0c662",
   "metadata": {},
   "outputs": [],
   "source": [
    "results = cursor.fetchall()\n",
    "print(results)"
   ]
  }
 ],
 "metadata": {
  "kernelspec": {
   "display_name": "Python 3 (ipykernel)",
   "language": "python",
   "name": "python3"
  },
  "language_info": {
   "codemirror_mode": {
    "name": "ipython",
    "version": 3
   },
   "file_extension": ".py",
   "mimetype": "text/x-python",
   "name": "python",
   "nbconvert_exporter": "python",
   "pygments_lexer": "ipython3",
   "version": "3.10.9"
  }
 },
 "nbformat": 4,
 "nbformat_minor": 5
}
