{
 "cells": [
  {
   "cell_type": "code",
   "execution_count": 1,
   "id": "cb0692c9",
   "metadata": {},
   "outputs": [],
   "source": [
    "import mysql.connector as connector"
   ]
  },
  {
   "cell_type": "code",
   "execution_count": 2,
   "id": "62c31c90",
   "metadata": {},
   "outputs": [],
   "source": [
    "conn = connector.connect(user='root', password='DataEngineering100%', database='LittleLemonDB')\n",
    "cursor = conn.cursor()"
   ]
  },
  {
   "cell_type": "code",
   "execution_count": 3,
   "id": "8b2eb53c",
   "metadata": {},
   "outputs": [],
   "source": [
    "table_queries = \"SHOW TABLES\"\n",
    "cursor.execute(table_queries)"
   ]
  },
  {
   "cell_type": "code",
   "execution_count": 4,
   "id": "5fcf997d",
   "metadata": {},
   "outputs": [
    {
     "name": "stdout",
     "output_type": "stream",
     "text": [
      "[('Addresses',), ('Bookings',), ('Countries',), ('Customers',), ('Delivery',), ('Employees',), ('MenuItems',), ('Menus',), ('Orders',), ('OrdersInfoView',), ('OrdersView',)]\n"
     ]
    }
   ],
   "source": [
    "results = cursor.fetchall()\n",
    "print(results)"
   ]
  },
  {
   "cell_type": "code",
   "execution_count": 5,
   "id": "d2268826",
   "metadata": {},
   "outputs": [],
   "source": [
    "order_query = \"SELECT C.CustomerName, C.ContactNumber, O.TotalCost FROM Customers AS C INNER JOIN Orders AS O ON C.CustomerID = O.CustomerID WHERE TotalCost > 60\"\n",
    "cursor.execute(order_query)"
   ]
  },
  {
   "cell_type": "code",
   "execution_count": 6,
   "id": "bf8fdfdc",
   "metadata": {},
   "outputs": [
    {
     "name": "stdout",
     "output_type": "stream",
     "text": [
      "[]\n"
     ]
    }
   ],
   "source": [
    "results = cursor.fetchall()\n",
    "print(results)"
   ]
  }
 ],
 "metadata": {
  "kernelspec": {
   "display_name": "Python 3 (ipykernel)",
   "language": "python",
   "name": "python3"
  },
  "language_info": {
   "codemirror_mode": {
    "name": "ipython",
    "version": 3
   },
   "file_extension": ".py",
   "mimetype": "text/x-python",
   "name": "python",
   "nbconvert_exporter": "python",
   "pygments_lexer": "ipython3",
   "version": "3.10.9"
  }
 },
 "nbformat": 4,
 "nbformat_minor": 5
}
